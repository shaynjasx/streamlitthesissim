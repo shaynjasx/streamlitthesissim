{
 "cells": [
  {
   "cell_type": "code",
   "execution_count": 1,
   "metadata": {},
   "outputs": [],
   "source": [
    "#load libraries\n",
    "import tensorflow as tf\n",
    "import keras\n",
    "from keras.callbacks import *\n",
    "import numpy as np\n",
    "import pandas as pd\n",
    "import matplotlib.pyplot as plt\n",
    "from keras.models import Sequential\n",
    "from keras.layers import *"
   ]
  },
  {
   "cell_type": "code",
   "execution_count": 2,
   "metadata": {},
   "outputs": [
    {
     "ename": "FileNotFoundError",
     "evalue": "[Errno 2] No such file or directory: 'dataset/sign_mnist_train.csv'",
     "output_type": "error",
     "traceback": [
      "\u001b[1;31m---------------------------------------------------------------------------\u001b[0m",
      "\u001b[1;31mFileNotFoundError\u001b[0m                         Traceback (most recent call last)",
      "\u001b[1;32mc:\\Users\\My Pc\\Desktop\\FINAL THESIS 2 APPLICATION\\Code\\CNN  With Augmentation.ipynb Cell 2\u001b[0m in \u001b[0;36m<cell line: 2>\u001b[1;34m()\u001b[0m\n\u001b[0;32m      <a href='vscode-notebook-cell:/c%3A/Users/My%20Pc/Desktop/FINAL%20THESIS%202%20APPLICATION/Code/CNN%20%20With%20Augmentation.ipynb#W1sZmlsZQ%3D%3D?line=0'>1</a>\u001b[0m \u001b[39m#get our training and test data\u001b[39;00m\n\u001b[1;32m----> <a href='vscode-notebook-cell:/c%3A/Users/My%20Pc/Desktop/FINAL%20THESIS%202%20APPLICATION/Code/CNN%20%20With%20Augmentation.ipynb#W1sZmlsZQ%3D%3D?line=1'>2</a>\u001b[0m traindata \u001b[39m=\u001b[39m pd\u001b[39m.\u001b[39;49mread_csv(\u001b[39m'\u001b[39;49m\u001b[39mdataset/sign_mnist_train.csv\u001b[39;49m\u001b[39m'\u001b[39;49m)\n\u001b[0;32m      <a href='vscode-notebook-cell:/c%3A/Users/My%20Pc/Desktop/FINAL%20THESIS%202%20APPLICATION/Code/CNN%20%20With%20Augmentation.ipynb#W1sZmlsZQ%3D%3D?line=2'>3</a>\u001b[0m testdata \u001b[39m=\u001b[39m pd\u001b[39m.\u001b[39mread_csv(\u001b[39m'\u001b[39m\u001b[39mdataset/sign_mnist_test.csv\u001b[39m\u001b[39m'\u001b[39m)\n",
      "File \u001b[1;32mc:\\Users\\My Pc\\AppData\\Local\\Programs\\Python\\Python310\\lib\\site-packages\\pandas\\util\\_decorators.py:211\u001b[0m, in \u001b[0;36mdeprecate_kwarg.<locals>._deprecate_kwarg.<locals>.wrapper\u001b[1;34m(*args, **kwargs)\u001b[0m\n\u001b[0;32m    209\u001b[0m     \u001b[39melse\u001b[39;00m:\n\u001b[0;32m    210\u001b[0m         kwargs[new_arg_name] \u001b[39m=\u001b[39m new_arg_value\n\u001b[1;32m--> 211\u001b[0m \u001b[39mreturn\u001b[39;00m func(\u001b[39m*\u001b[39margs, \u001b[39m*\u001b[39m\u001b[39m*\u001b[39mkwargs)\n",
      "File \u001b[1;32mc:\\Users\\My Pc\\AppData\\Local\\Programs\\Python\\Python310\\lib\\site-packages\\pandas\\util\\_decorators.py:331\u001b[0m, in \u001b[0;36mdeprecate_nonkeyword_arguments.<locals>.decorate.<locals>.wrapper\u001b[1;34m(*args, **kwargs)\u001b[0m\n\u001b[0;32m    325\u001b[0m \u001b[39mif\u001b[39;00m \u001b[39mlen\u001b[39m(args) \u001b[39m>\u001b[39m num_allow_args:\n\u001b[0;32m    326\u001b[0m     warnings\u001b[39m.\u001b[39mwarn(\n\u001b[0;32m    327\u001b[0m         msg\u001b[39m.\u001b[39mformat(arguments\u001b[39m=\u001b[39m_format_argument_list(allow_args)),\n\u001b[0;32m    328\u001b[0m         \u001b[39mFutureWarning\u001b[39;00m,\n\u001b[0;32m    329\u001b[0m         stacklevel\u001b[39m=\u001b[39mfind_stack_level(),\n\u001b[0;32m    330\u001b[0m     )\n\u001b[1;32m--> 331\u001b[0m \u001b[39mreturn\u001b[39;00m func(\u001b[39m*\u001b[39margs, \u001b[39m*\u001b[39m\u001b[39m*\u001b[39mkwargs)\n",
      "File \u001b[1;32mc:\\Users\\My Pc\\AppData\\Local\\Programs\\Python\\Python310\\lib\\site-packages\\pandas\\io\\parsers\\readers.py:950\u001b[0m, in \u001b[0;36mread_csv\u001b[1;34m(filepath_or_buffer, sep, delimiter, header, names, index_col, usecols, squeeze, prefix, mangle_dupe_cols, dtype, engine, converters, true_values, false_values, skipinitialspace, skiprows, skipfooter, nrows, na_values, keep_default_na, na_filter, verbose, skip_blank_lines, parse_dates, infer_datetime_format, keep_date_col, date_parser, dayfirst, cache_dates, iterator, chunksize, compression, thousands, decimal, lineterminator, quotechar, quoting, doublequote, escapechar, comment, encoding, encoding_errors, dialect, error_bad_lines, warn_bad_lines, on_bad_lines, delim_whitespace, low_memory, memory_map, float_precision, storage_options)\u001b[0m\n\u001b[0;32m    935\u001b[0m kwds_defaults \u001b[39m=\u001b[39m _refine_defaults_read(\n\u001b[0;32m    936\u001b[0m     dialect,\n\u001b[0;32m    937\u001b[0m     delimiter,\n\u001b[1;32m   (...)\u001b[0m\n\u001b[0;32m    946\u001b[0m     defaults\u001b[39m=\u001b[39m{\u001b[39m\"\u001b[39m\u001b[39mdelimiter\u001b[39m\u001b[39m\"\u001b[39m: \u001b[39m\"\u001b[39m\u001b[39m,\u001b[39m\u001b[39m\"\u001b[39m},\n\u001b[0;32m    947\u001b[0m )\n\u001b[0;32m    948\u001b[0m kwds\u001b[39m.\u001b[39mupdate(kwds_defaults)\n\u001b[1;32m--> 950\u001b[0m \u001b[39mreturn\u001b[39;00m _read(filepath_or_buffer, kwds)\n",
      "File \u001b[1;32mc:\\Users\\My Pc\\AppData\\Local\\Programs\\Python\\Python310\\lib\\site-packages\\pandas\\io\\parsers\\readers.py:605\u001b[0m, in \u001b[0;36m_read\u001b[1;34m(filepath_or_buffer, kwds)\u001b[0m\n\u001b[0;32m    602\u001b[0m _validate_names(kwds\u001b[39m.\u001b[39mget(\u001b[39m\"\u001b[39m\u001b[39mnames\u001b[39m\u001b[39m\"\u001b[39m, \u001b[39mNone\u001b[39;00m))\n\u001b[0;32m    604\u001b[0m \u001b[39m# Create the parser.\u001b[39;00m\n\u001b[1;32m--> 605\u001b[0m parser \u001b[39m=\u001b[39m TextFileReader(filepath_or_buffer, \u001b[39m*\u001b[39m\u001b[39m*\u001b[39mkwds)\n\u001b[0;32m    607\u001b[0m \u001b[39mif\u001b[39;00m chunksize \u001b[39mor\u001b[39;00m iterator:\n\u001b[0;32m    608\u001b[0m     \u001b[39mreturn\u001b[39;00m parser\n",
      "File \u001b[1;32mc:\\Users\\My Pc\\AppData\\Local\\Programs\\Python\\Python310\\lib\\site-packages\\pandas\\io\\parsers\\readers.py:1442\u001b[0m, in \u001b[0;36mTextFileReader.__init__\u001b[1;34m(self, f, engine, **kwds)\u001b[0m\n\u001b[0;32m   1439\u001b[0m     \u001b[39mself\u001b[39m\u001b[39m.\u001b[39moptions[\u001b[39m\"\u001b[39m\u001b[39mhas_index_names\u001b[39m\u001b[39m\"\u001b[39m] \u001b[39m=\u001b[39m kwds[\u001b[39m\"\u001b[39m\u001b[39mhas_index_names\u001b[39m\u001b[39m\"\u001b[39m]\n\u001b[0;32m   1441\u001b[0m \u001b[39mself\u001b[39m\u001b[39m.\u001b[39mhandles: IOHandles \u001b[39m|\u001b[39m \u001b[39mNone\u001b[39;00m \u001b[39m=\u001b[39m \u001b[39mNone\u001b[39;00m\n\u001b[1;32m-> 1442\u001b[0m \u001b[39mself\u001b[39m\u001b[39m.\u001b[39m_engine \u001b[39m=\u001b[39m \u001b[39mself\u001b[39;49m\u001b[39m.\u001b[39;49m_make_engine(f, \u001b[39mself\u001b[39;49m\u001b[39m.\u001b[39;49mengine)\n",
      "File \u001b[1;32mc:\\Users\\My Pc\\AppData\\Local\\Programs\\Python\\Python310\\lib\\site-packages\\pandas\\io\\parsers\\readers.py:1735\u001b[0m, in \u001b[0;36mTextFileReader._make_engine\u001b[1;34m(self, f, engine)\u001b[0m\n\u001b[0;32m   1733\u001b[0m     \u001b[39mif\u001b[39;00m \u001b[39m\"\u001b[39m\u001b[39mb\u001b[39m\u001b[39m\"\u001b[39m \u001b[39mnot\u001b[39;00m \u001b[39min\u001b[39;00m mode:\n\u001b[0;32m   1734\u001b[0m         mode \u001b[39m+\u001b[39m\u001b[39m=\u001b[39m \u001b[39m\"\u001b[39m\u001b[39mb\u001b[39m\u001b[39m\"\u001b[39m\n\u001b[1;32m-> 1735\u001b[0m \u001b[39mself\u001b[39m\u001b[39m.\u001b[39mhandles \u001b[39m=\u001b[39m get_handle(\n\u001b[0;32m   1736\u001b[0m     f,\n\u001b[0;32m   1737\u001b[0m     mode,\n\u001b[0;32m   1738\u001b[0m     encoding\u001b[39m=\u001b[39;49m\u001b[39mself\u001b[39;49m\u001b[39m.\u001b[39;49moptions\u001b[39m.\u001b[39;49mget(\u001b[39m\"\u001b[39;49m\u001b[39mencoding\u001b[39;49m\u001b[39m\"\u001b[39;49m, \u001b[39mNone\u001b[39;49;00m),\n\u001b[0;32m   1739\u001b[0m     compression\u001b[39m=\u001b[39;49m\u001b[39mself\u001b[39;49m\u001b[39m.\u001b[39;49moptions\u001b[39m.\u001b[39;49mget(\u001b[39m\"\u001b[39;49m\u001b[39mcompression\u001b[39;49m\u001b[39m\"\u001b[39;49m, \u001b[39mNone\u001b[39;49;00m),\n\u001b[0;32m   1740\u001b[0m     memory_map\u001b[39m=\u001b[39;49m\u001b[39mself\u001b[39;49m\u001b[39m.\u001b[39;49moptions\u001b[39m.\u001b[39;49mget(\u001b[39m\"\u001b[39;49m\u001b[39mmemory_map\u001b[39;49m\u001b[39m\"\u001b[39;49m, \u001b[39mFalse\u001b[39;49;00m),\n\u001b[0;32m   1741\u001b[0m     is_text\u001b[39m=\u001b[39;49mis_text,\n\u001b[0;32m   1742\u001b[0m     errors\u001b[39m=\u001b[39;49m\u001b[39mself\u001b[39;49m\u001b[39m.\u001b[39;49moptions\u001b[39m.\u001b[39;49mget(\u001b[39m\"\u001b[39;49m\u001b[39mencoding_errors\u001b[39;49m\u001b[39m\"\u001b[39;49m, \u001b[39m\"\u001b[39;49m\u001b[39mstrict\u001b[39;49m\u001b[39m\"\u001b[39;49m),\n\u001b[0;32m   1743\u001b[0m     storage_options\u001b[39m=\u001b[39;49m\u001b[39mself\u001b[39;49m\u001b[39m.\u001b[39;49moptions\u001b[39m.\u001b[39;49mget(\u001b[39m\"\u001b[39;49m\u001b[39mstorage_options\u001b[39;49m\u001b[39m\"\u001b[39;49m, \u001b[39mNone\u001b[39;49;00m),\n\u001b[0;32m   1744\u001b[0m )\n\u001b[0;32m   1745\u001b[0m \u001b[39massert\u001b[39;00m \u001b[39mself\u001b[39m\u001b[39m.\u001b[39mhandles \u001b[39mis\u001b[39;00m \u001b[39mnot\u001b[39;00m \u001b[39mNone\u001b[39;00m\n\u001b[0;32m   1746\u001b[0m f \u001b[39m=\u001b[39m \u001b[39mself\u001b[39m\u001b[39m.\u001b[39mhandles\u001b[39m.\u001b[39mhandle\n",
      "File \u001b[1;32mc:\\Users\\My Pc\\AppData\\Local\\Programs\\Python\\Python310\\lib\\site-packages\\pandas\\io\\common.py:856\u001b[0m, in \u001b[0;36mget_handle\u001b[1;34m(path_or_buf, mode, encoding, compression, memory_map, is_text, errors, storage_options)\u001b[0m\n\u001b[0;32m    851\u001b[0m \u001b[39melif\u001b[39;00m \u001b[39misinstance\u001b[39m(handle, \u001b[39mstr\u001b[39m):\n\u001b[0;32m    852\u001b[0m     \u001b[39m# Check whether the filename is to be opened in binary mode.\u001b[39;00m\n\u001b[0;32m    853\u001b[0m     \u001b[39m# Binary mode does not support 'encoding' and 'newline'.\u001b[39;00m\n\u001b[0;32m    854\u001b[0m     \u001b[39mif\u001b[39;00m ioargs\u001b[39m.\u001b[39mencoding \u001b[39mand\u001b[39;00m \u001b[39m\"\u001b[39m\u001b[39mb\u001b[39m\u001b[39m\"\u001b[39m \u001b[39mnot\u001b[39;00m \u001b[39min\u001b[39;00m ioargs\u001b[39m.\u001b[39mmode:\n\u001b[0;32m    855\u001b[0m         \u001b[39m# Encoding\u001b[39;00m\n\u001b[1;32m--> 856\u001b[0m         handle \u001b[39m=\u001b[39m \u001b[39mopen\u001b[39;49m(\n\u001b[0;32m    857\u001b[0m             handle,\n\u001b[0;32m    858\u001b[0m             ioargs\u001b[39m.\u001b[39;49mmode,\n\u001b[0;32m    859\u001b[0m             encoding\u001b[39m=\u001b[39;49mioargs\u001b[39m.\u001b[39;49mencoding,\n\u001b[0;32m    860\u001b[0m             errors\u001b[39m=\u001b[39;49merrors,\n\u001b[0;32m    861\u001b[0m             newline\u001b[39m=\u001b[39;49m\u001b[39m\"\u001b[39;49m\u001b[39m\"\u001b[39;49m,\n\u001b[0;32m    862\u001b[0m         )\n\u001b[0;32m    863\u001b[0m     \u001b[39melse\u001b[39;00m:\n\u001b[0;32m    864\u001b[0m         \u001b[39m# Binary mode\u001b[39;00m\n\u001b[0;32m    865\u001b[0m         handle \u001b[39m=\u001b[39m \u001b[39mopen\u001b[39m(handle, ioargs\u001b[39m.\u001b[39mmode)\n",
      "\u001b[1;31mFileNotFoundError\u001b[0m: [Errno 2] No such file or directory: 'dataset/sign_mnist_train.csv'"
     ]
    }
   ],
   "source": [
    "#get our training and test data\n",
    "traindata = pd.read_csv('dataset/sign_mnist_train.csv')\n",
    "testdata = pd.read_csv('dataset/sign_mnist_test.csv')"
   ]
  },
  {
   "cell_type": "code",
   "execution_count": null,
   "id": "50028c56",
   "metadata": {},
   "outputs": [],
   "source": [
    "trainlabel=traindata['label'].values\n",
    "traindata.drop('label',inplace=True,axis=1)\n",
    "trainimages = traindata.values\n",
    "\n",
    "testlabel=testdata['label'].values\n",
    "testdata.drop('label',inplace=True,axis=1)\n",
    "testimages = testdata.values\n"
   ]
  },
  {
   "cell_type": "code",
   "execution_count": null,
   "id": "05341388",
   "metadata": {},
   "outputs": [],
   "source": [
    "trainimages=trainimages.reshape(-1,28,28,1)\n",
    "\n",
    "testimages=testimages.reshape(-1,28,28,1)"
   ]
  },
  {
   "cell_type": "code",
   "execution_count": null,
   "id": "e75753d2",
   "metadata": {},
   "outputs": [
    {
     "name": "stdout",
     "output_type": "stream",
     "text": [
      "(27455, 28, 28, 1)\n",
      "(27455,)\n",
      "(7172, 28, 28, 1)\n",
      "(7172,)\n"
     ]
    }
   ],
   "source": [
    "print(trainimages.shape)\n",
    "print(trainlabel.shape)\n",
    "\n",
    "print(testimages.shape)\n",
    "print(testlabel.shape)"
   ]
  },
  {
   "cell_type": "code",
   "execution_count": null,
   "id": "27dc24ab",
   "metadata": {},
   "outputs": [],
   "source": [
    "from keras.preprocessing.image import ImageDataGenerator\n",
    "traingen=ImageDataGenerator(\n",
    "            rotation_range=10,\n",
    "            zoom_range=0.10,\n",
    "            width_shift_range=0.1,\n",
    "            height_shift_range=0.1,\n",
    "            shear_range=0.1,\n",
    "            horizontal_flip=True,\n",
    "            vertical_flip=False,\n",
    "            brightness_range=[1.0,2.0],\n",
    "            rescale=1./255.0)\n",
    "traindata_generator = traingen.flow(trainimages,trainlabel, batch_size=128)\n",
    "\n",
    "testgen=ImageDataGenerator(rescale=1./255.0)\n",
    "validationdata_generator = testgen.flow(testimages,testlabel, batch_size=128)"
   ]
  },
  {
   "cell_type": "code",
   "execution_count": null,
   "metadata": {},
   "outputs": [],
   "source": [
    "model=Sequential()\n",
    "\n",
    "model.add(Conv2D(256,(3,3),activation=\"relu\",input_shape=(28,28,1)))\n",
    "model.add(MaxPooling2D(2,2))\n",
    "\n",
    "model.add(Conv2D(512,(3,3),activation=\"relu\"))\n",
    "model.add(MaxPooling2D(2,2))\n",
    "\n",
    "model.add(Conv2D(1024,(3,3),activation=\"relu\"))\n",
    "model.add(MaxPooling2D(2,2))\n",
    "\n",
    "model.add(Flatten())\n",
    "model.add(Dense(2048,activation=\"relu\"))\n",
    "model.add(Dropout(0.5))\n",
    "model.add(Dense(26,activation=\"softmax\"))"
   ]
  },
  {
   "cell_type": "code",
   "execution_count": null,
   "id": "31aaa6cd",
   "metadata": {},
   "outputs": [],
   "source": [
    "model.compile(loss=\"sparse_categorical_crossentropy\",optimizer='adam',metrics=['accuracy'])"
   ]
  },
  {
   "cell_type": "code",
   "execution_count": null,
   "id": "ab418c3a",
   "metadata": {},
   "outputs": [
    {
     "name": "stdout",
     "output_type": "stream",
     "text": [
      "Model: \"sequential_1\"\n",
      "_________________________________________________________________\n",
      " Layer (type)                Output Shape              Param #   \n",
      "=================================================================\n",
      " conv2d_3 (Conv2D)           (None, 26, 26, 128)       1280      \n",
      "                                                                 \n",
      " max_pooling2d_3 (MaxPooling  (None, 13, 13, 128)      0         \n",
      " 2D)                                                             \n",
      "                                                                 \n",
      " conv2d_4 (Conv2D)           (None, 11, 11, 256)       295168    \n",
      "                                                                 \n",
      " max_pooling2d_4 (MaxPooling  (None, 5, 5, 256)        0         \n",
      " 2D)                                                             \n",
      "                                                                 \n",
      " conv2d_5 (Conv2D)           (None, 3, 3, 512)         1180160   \n",
      "                                                                 \n",
      " max_pooling2d_5 (MaxPooling  (None, 1, 1, 512)        0         \n",
      " 2D)                                                             \n",
      "                                                                 \n",
      " flatten_1 (Flatten)         (None, 512)               0         \n",
      "                                                                 \n",
      " dense_2 (Dense)             (None, 1024)              525312    \n",
      "                                                                 \n",
      " dropout_1 (Dropout)         (None, 1024)              0         \n",
      "                                                                 \n",
      " dense_3 (Dense)             (None, 26)                26650     \n",
      "                                                                 \n",
      "=================================================================\n",
      "Total params: 2,028,570\n",
      "Trainable params: 2,028,570\n",
      "Non-trainable params: 0\n",
      "_________________________________________________________________\n"
     ]
    }
   ],
   "source": [
    "model.summary()"
   ]
  },
  {
   "cell_type": "code",
   "execution_count": null,
   "id": "0103be49",
   "metadata": {},
   "outputs": [
    {
     "name": "stdout",
     "output_type": "stream",
     "text": [
      "Epoch 1/50\n",
      "215/215 [==============================] - 4216s 20s/step - loss: 2.6572 - accuracy: 0.1775 - val_loss: 1.6547 - val_accuracy: 0.4646\n",
      "Epoch 2/50\n",
      "215/215 [==============================] - 474s 2s/step - loss: 1.4785 - accuracy: 0.5094 - val_loss: 0.8378 - val_accuracy: 0.7257\n",
      "Epoch 3/50\n",
      "215/215 [==============================] - 358s 2s/step - loss: 0.9480 - accuracy: 0.6817 - val_loss: 0.5251 - val_accuracy: 0.8206\n",
      "Epoch 4/50\n",
      "215/215 [==============================] - 325s 2s/step - loss: 0.7013 - accuracy: 0.7667 - val_loss: 0.4067 - val_accuracy: 0.8583\n",
      "Epoch 5/50\n",
      "215/215 [==============================] - 3089s 14s/step - loss: 0.5705 - accuracy: 0.8085 - val_loss: 0.3047 - val_accuracy: 0.8905\n",
      "Epoch 6/50\n",
      "215/215 [==============================] - 348s 2s/step - loss: 0.4520 - accuracy: 0.8483 - val_loss: 0.2096 - val_accuracy: 0.9334\n",
      "Epoch 7/50\n",
      "215/215 [==============================] - 352s 2s/step - loss: 0.3851 - accuracy: 0.8730 - val_loss: 0.1448 - val_accuracy: 0.9527\n",
      "Epoch 8/50\n",
      "215/215 [==============================] - 365s 2s/step - loss: 0.3422 - accuracy: 0.8885 - val_loss: 0.1411 - val_accuracy: 0.9604\n",
      "Epoch 9/50\n",
      "215/215 [==============================] - 368s 2s/step - loss: 0.3145 - accuracy: 0.8967 - val_loss: 0.1032 - val_accuracy: 0.9663\n",
      "Epoch 10/50\n",
      "215/215 [==============================] - 372s 2s/step - loss: 0.2850 - accuracy: 0.9072 - val_loss: 0.1173 - val_accuracy: 0.9579\n",
      "Epoch 11/50\n",
      "215/215 [==============================] - 370s 2s/step - loss: 0.2621 - accuracy: 0.9153 - val_loss: 0.0659 - val_accuracy: 0.9792\n",
      "Epoch 12/50\n",
      "215/215 [==============================] - 378s 2s/step - loss: 0.2502 - accuracy: 0.9194 - val_loss: 0.0635 - val_accuracy: 0.9870\n",
      "Epoch 13/50\n",
      "215/215 [==============================] - 383s 2s/step - loss: 0.2296 - accuracy: 0.9257 - val_loss: 0.0506 - val_accuracy: 0.9852\n",
      "Epoch 14/50\n",
      "215/215 [==============================] - 392s 2s/step - loss: 0.2214 - accuracy: 0.9273 - val_loss: 0.0622 - val_accuracy: 0.9717\n",
      "Epoch 15/50\n",
      "215/215 [==============================] - 407s 2s/step - loss: 0.2127 - accuracy: 0.9323 - val_loss: 0.0748 - val_accuracy: 0.9717\n",
      "Epoch 16/50\n",
      "215/215 [==============================] - 409s 2s/step - loss: 0.1978 - accuracy: 0.9351 - val_loss: 0.0509 - val_accuracy: 0.9855\n",
      "Epoch 17/50\n",
      "215/215 [==============================] - 417s 2s/step - loss: 0.1888 - accuracy: 0.9398 - val_loss: 0.0493 - val_accuracy: 0.9859\n",
      "Epoch 18/50\n",
      "215/215 [==============================] - 410s 2s/step - loss: 0.1902 - accuracy: 0.9391 - val_loss: 0.0424 - val_accuracy: 0.9852\n",
      "Epoch 19/50\n",
      "215/215 [==============================] - 415s 2s/step - loss: 0.1767 - accuracy: 0.9433 - val_loss: 0.0418 - val_accuracy: 0.9855\n",
      "Epoch 20/50\n",
      "215/215 [==============================] - 408s 2s/step - loss: 0.1698 - accuracy: 0.9443 - val_loss: 0.0566 - val_accuracy: 0.9830\n",
      "Epoch 21/50\n",
      "215/215 [==============================] - 411s 2s/step - loss: 0.1595 - accuracy: 0.9484 - val_loss: 0.0435 - val_accuracy: 0.9859\n",
      "Epoch 22/50\n",
      "215/215 [==============================] - 413s 2s/step - loss: 0.1526 - accuracy: 0.9518 - val_loss: 0.0442 - val_accuracy: 0.9893\n",
      "Epoch 23/50\n",
      "215/215 [==============================] - 413s 2s/step - loss: 0.1527 - accuracy: 0.9504 - val_loss: 0.0297 - val_accuracy: 0.9951\n",
      "Epoch 24/50\n",
      "215/215 [==============================] - 419s 2s/step - loss: 0.1554 - accuracy: 0.9494 - val_loss: 0.0279 - val_accuracy: 0.9967\n",
      "Epoch 25/50\n",
      "215/215 [==============================] - 386s 2s/step - loss: 0.1471 - accuracy: 0.9518 - val_loss: 0.0363 - val_accuracy: 0.9912\n",
      "Epoch 26/50\n",
      "215/215 [==============================] - 373s 2s/step - loss: 0.1415 - accuracy: 0.9544 - val_loss: 0.0375 - val_accuracy: 0.9912\n",
      "Epoch 27/50\n",
      "215/215 [==============================] - 365s 2s/step - loss: 0.1517 - accuracy: 0.9509 - val_loss: 0.0632 - val_accuracy: 0.9791\n",
      "Epoch 28/50\n",
      "215/215 [==============================] - 365s 2s/step - loss: 0.1422 - accuracy: 0.9534 - val_loss: 0.0266 - val_accuracy: 0.9937\n",
      "Epoch 29/50\n",
      "215/215 [==============================] - 364s 2s/step - loss: 0.1328 - accuracy: 0.9569 - val_loss: 0.0232 - val_accuracy: 0.9936\n",
      "Epoch 30/50\n",
      "215/215 [==============================] - 364s 2s/step - loss: 0.1325 - accuracy: 0.9576 - val_loss: 0.0324 - val_accuracy: 0.9914\n",
      "Epoch 31/50\n",
      "215/215 [==============================] - 366s 2s/step - loss: 0.1304 - accuracy: 0.9591 - val_loss: 0.0482 - val_accuracy: 0.9852\n",
      "Epoch 32/50\n",
      "215/215 [==============================] - 363s 2s/step - loss: 0.1341 - accuracy: 0.9576 - val_loss: 0.0317 - val_accuracy: 0.9904\n",
      "Epoch 33/50\n",
      "215/215 [==============================] - 366s 2s/step - loss: 0.1282 - accuracy: 0.9604 - val_loss: 0.0295 - val_accuracy: 0.9922\n",
      "Epoch 34/50\n",
      "215/215 [==============================] - 367s 2s/step - loss: 0.1249 - accuracy: 0.9614 - val_loss: 0.0642 - val_accuracy: 0.9803\n",
      "Epoch 35/50\n",
      "215/215 [==============================] - 363s 2s/step - loss: 0.1177 - accuracy: 0.9628 - val_loss: 0.0495 - val_accuracy: 0.9828\n",
      "Epoch 36/50\n",
      "215/215 [==============================] - 370s 2s/step - loss: 0.1265 - accuracy: 0.9587 - val_loss: 0.0613 - val_accuracy: 0.9865\n",
      "Epoch 37/50\n",
      "215/215 [==============================] - 366s 2s/step - loss: 0.1214 - accuracy: 0.9602 - val_loss: 0.0362 - val_accuracy: 0.9884\n",
      "Epoch 38/50\n",
      "215/215 [==============================] - 367s 2s/step - loss: 0.1164 - accuracy: 0.9619 - val_loss: 0.0553 - val_accuracy: 0.9862\n",
      "Epoch 39/50\n",
      "215/215 [==============================] - 368s 2s/step - loss: 0.1191 - accuracy: 0.9612 - val_loss: 0.0524 - val_accuracy: 0.9841\n",
      "Epoch 40/50\n",
      "215/215 [==============================] - 372s 2s/step - loss: 0.1195 - accuracy: 0.9612 - val_loss: 0.0302 - val_accuracy: 0.9897\n",
      "Epoch 41/50\n",
      "215/215 [==============================] - 381s 2s/step - loss: 0.1078 - accuracy: 0.9646 - val_loss: 0.0170 - val_accuracy: 0.9933\n",
      "Epoch 42/50\n",
      "215/215 [==============================] - 376s 2s/step - loss: 0.1120 - accuracy: 0.9643 - val_loss: 0.0501 - val_accuracy: 0.9883\n",
      "Epoch 43/50\n",
      "215/215 [==============================] - 383s 2s/step - loss: 0.1094 - accuracy: 0.9647 - val_loss: 0.0576 - val_accuracy: 0.9841\n",
      "Epoch 44/50\n",
      "215/215 [==============================] - 394s 2s/step - loss: 0.1104 - accuracy: 0.9646 - val_loss: 0.0375 - val_accuracy: 0.9922\n",
      "Epoch 45/50\n",
      "215/215 [==============================] - 380s 2s/step - loss: 0.1060 - accuracy: 0.9654 - val_loss: 0.0495 - val_accuracy: 0.9876\n",
      "Epoch 46/50\n",
      "215/215 [==============================] - 404s 2s/step - loss: 0.1109 - accuracy: 0.9641 - val_loss: 0.0415 - val_accuracy: 0.9865\n",
      "Epoch 47/50\n",
      "215/215 [==============================] - 387s 2s/step - loss: 0.1059 - accuracy: 0.9660 - val_loss: 0.0442 - val_accuracy: 0.9828\n",
      "Epoch 48/50\n",
      "215/215 [==============================] - 384s 2s/step - loss: 0.0963 - accuracy: 0.9689 - val_loss: 0.0415 - val_accuracy: 0.9901\n",
      "Epoch 49/50\n",
      "215/215 [==============================] - 377s 2s/step - loss: 0.1094 - accuracy: 0.9645 - val_loss: 0.0549 - val_accuracy: 0.9883\n",
      "Epoch 50/50\n",
      "215/215 [==============================] - 380s 2s/step - loss: 0.1114 - accuracy: 0.9644 - val_loss: 0.0504 - val_accuracy: 0.9901\n"
     ]
    }
   ],
   "source": [
    "history=model.fit(traindata_generator,epochs=50,validation_data=validationdata_generator)"
   ]
  },
  {
   "cell_type": "code",
   "execution_count": null,
   "id": "8aaabfbb",
   "metadata": {},
   "outputs": [
    {
     "name": "stdout",
     "output_type": "stream",
     "text": [
      "215/215 [==============================] - 82s 371ms/step - loss: 0.1039 - accuracy: 0.9659\n",
      "CNN_SA Training Accuracy : 96.59%\n",
      "57/57 [==============================] - 18s 286ms/step - loss: 0.0504 - accuracy: 0.9901\n",
      "CNN_SA Test Accuracy : 99.01%\n"
     ]
    }
   ],
   "source": [
    "#saving the CNN training Accuracy to local folder \n",
    "_, acc_train = model.evaluate(traindata_generator)\n",
    "print('CNN_SA Training Accuracy : %0.2f%%' % (acc_train * 100))\n",
    "\n",
    "trainingAcc = (\"%0.2f%%\" % (acc_train * 100))\n",
    "np.save('SA/50epoch_SA_trainingAccuracy.npy', trainingAcc)\n",
    "\n",
    "#saving the CNN test Accuracy to local folder \n",
    "_, acc_test = model.evaluate(validationdata_generator)\n",
    "print('CNN_SA Test Accuracy : %0.2f%%' % (acc_test * 100))\n",
    "\n",
    "TestAcc = (\"%0.2f%%\" % (acc_test * 100))\n",
    "np.save('SA/50epoch_SA_testAccuracy.npy', TestAcc)"
   ]
  },
  {
   "cell_type": "code",
   "execution_count": null,
   "id": "40ca4eec",
   "metadata": {},
   "outputs": [
    {
     "name": "stdout",
     "output_type": "stream",
     "text": [
      "Model Saved\n"
     ]
    }
   ],
   "source": [
    "#save our model\n",
    "model.save(\"SA/50epoch_SA_Model.h5\")\n",
    "print(\"Model Saved\")"
   ]
  },
  {
   "cell_type": "code",
   "execution_count": null,
   "id": "e9ebdcc5",
   "metadata": {},
   "outputs": [],
   "source": [
    "#saving the CNN training history to local folder \n",
    "np.save('SA/50epoch_SA_history.npy', history.history)\n",
    "\n",
    "#load the CNN training validation accuracy to local folder \n",
    "val_accuracy = np.load('SA/50epoch_SA_testAccuracy.npy', allow_pickle='TRUE').item()\n",
    "#print('%0.2f%%' % (val_accuracy * 100))\n",
    "\n",
    "#load the CNN training history from local folder\n",
    "history = np.load('SA/50epoch_SA_history.npy', allow_pickle='TRUE').item()"
   ]
  },
  {
   "cell_type": "code",
   "execution_count": null,
   "id": "5982bd5d",
   "metadata": {},
   "outputs": [
    {
     "data": {
      "image/png": "[encoded data removed]",
      "text/plain": [
       "<Figure size 864x576 with 2 Axes>"
      ]
     },
     "metadata": {
      "needs_background": "light"
     },
     "output_type": "display_data"
    }
   ],
   "source": [
    "#Plotting the accuracy training using graph presentation CNN\n",
    "plt.figure(figsize = (12, 8))\n",
    "\n",
    "plt.subplot(2, 2, 1)\n",
    "plt.ylabel('Loss Value')\n",
    "plt.xlabel('Epochs')\n",
    "plt.plot(history['loss'], label='Loss')\n",
    "plt.plot(history['val_loss'], label='validation_loss')\n",
    "plt.legend()\n",
    "plt.grid()\n",
    "plt.title('Loss Graph')\n",
    "\n",
    "plt.subplot(2, 2, 2)\n",
    "plt.ylabel('Accuracy')\n",
    "plt.xlabel('Epochs')\n",
    "plt.plot(history['accuracy'], label='accuracy')\n",
    "plt.plot(history['val_accuracy'], label='validation_accuracy')\n",
    "plt.legend()\n",
    "plt.grid()\n",
    "plt.title('Accuracy Graph')\n",
    "\n",
    "plt.show()"
   ]
  }
 ],
 "metadata": {
  "kernelspec": {
   "display_name": "Python 3.10.7 64-bit (microsoft store)",
   "language": "python",
   "name": "python3"
  },
  "language_info": {
   "codemirror_mode": {
    "name": "ipython",
    "version": 3
   },
   "file_extension": ".py",
   "mimetype": "text/x-python",
   "name": "python",
   "nbconvert_exporter": "python",
   "pygments_lexer": "ipython3",
   "version": "3.10.0"
  },
  "vscode": {
   "interpreter": {
    "hash": "ca731fba0b2a8205888d30c381688135b6d0118ea16c4a9b9148c792d6c26d38"
   }
  }
 },
 "nbformat": 4,
 "nbformat_minor": 5
}
