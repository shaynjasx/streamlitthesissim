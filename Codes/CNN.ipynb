{
 "cells": [
  {
   "cell_type": "code",
   "execution_count": 37,
   "metadata": {},
   "outputs": [],
   "source": [
    "#load libraries\n",
    "import tensorflow as tf\n",
    "import keras\n",
    "from keras.callbacks import *\n",
    "import numpy as np\n",
    "import pandas as pd\n",
    "import matplotlib.pyplot as plt\n",
    "from keras.models import Sequential\n",
    "from keras.layers import *"
   ]
  },
  {
   "cell_type": "code",
   "execution_count": 38,
   "metadata": {},
   "outputs": [],
   "source": [
    "#get our training and test data\n",
    "traindata = pd.read_csv('dataset/sign_mnist_train.csv')\n",
    "testdata = pd.read_csv('dataset/sign_mnist_test.csv')"
   ]
  },
  {
   "cell_type": "code",
   "execution_count": 39,
   "id": "5cb5f394",
   "metadata": {},
   "outputs": [],
   "source": [
    "trainlabel=traindata['label'].values\n",
    "testlabel=testdata['label'].values"
   ]
  },
  {
   "cell_type": "code",
   "execution_count": 40,
   "id": "50028c56",
   "metadata": {},
   "outputs": [],
   "source": [
    "traindata.drop('label',inplace=True,axis=1)\n",
    "trainimages = traindata.values\n",
    "\n",
    "testdata.drop('label',inplace=True,axis=1)\n",
    "testimages = testdata.values"
   ]
  },
  {
   "cell_type": "code",
   "execution_count": 41,
   "id": "05341388",
   "metadata": {},
   "outputs": [],
   "source": [
    "trainimages=trainimages.reshape(-1,28,28,1)\n",
    "\n",
    "testimages=testimages.reshape(-1,28,28,1)"
   ]
  },
  {
   "cell_type": "code",
   "execution_count": 42,
   "id": "e75753d2",
   "metadata": {},
   "outputs": [
    {
     "name": "stdout",
     "output_type": "stream",
     "text": [
      "(27455, 784)\n",
      "(7172, 784)\n"
     ]
    }
   ],
   "source": [
    "print(traindata.shape)\n",
    "print(testdata.shape)"
   ]
  },
  {
   "cell_type": "code",
   "execution_count": 43,
   "id": "27dc24ab",
   "metadata": {},
   "outputs": [],
   "source": [
    "from keras.preprocessing.image import ImageDataGenerator\n",
    "traingen=ImageDataGenerator( rescale=1./255.0 )\n",
    "\n",
    "traindata_generator = traingen.flow(trainimages,trainlabel, batch_size=128)\n",
    "validationdata_generator = traingen.flow(testimages,testlabel, batch_size=128)"
   ]
  },
  {
   "cell_type": "code",
   "execution_count": 44,
   "metadata": {},
   "outputs": [],
   "source": [
    "model=Sequential()\n",
    "\n",
    "model.add(Conv2D(32,(3,3),activation=\"relu\",input_shape=(28,28,1)))\n",
    "model.add(MaxPooling2D(2,2))\n",
    "\n",
    "model.add(Conv2D(64,(3,3),activation=\"relu\"))\n",
    "model.add(MaxPooling2D(2,2))\n",
    "\n",
    "model.add(Conv2D(128,(3,3),activation=\"relu\"))\n",
    "model.add(MaxPooling2D(2,2))\n",
    "\n",
    "model.add(Flatten())\n",
    "model.add(Dense(256,activation=\"relu\"))\n",
    "model.add(Dropout(0.5))\n",
    "model.add(Dense(26,activation=\"softmax\"))"
   ]
  },
  {
   "cell_type": "code",
   "execution_count": 45,
   "id": "31aaa6cd",
   "metadata": {},
   "outputs": [],
   "source": [
    "model.compile(loss=\"sparse_categorical_crossentropy\",optimizer='adam',metrics=['accuracy'])"
   ]
  },
  {
   "cell_type": "code",
   "execution_count": 46,
   "id": "ab418c3a",
   "metadata": {},
   "outputs": [
    {
     "name": "stdout",
     "output_type": "stream",
     "text": [
      "Model: \"sequential_2\"\n",
      "_________________________________________________________________\n",
      " Layer (type)                Output Shape              Param #   \n",
      "=================================================================\n",
      " conv2d_6 (Conv2D)           (None, 26, 26, 32)        320       \n",
      "                                                                 \n",
      " max_pooling2d_6 (MaxPooling  (None, 13, 13, 32)       0         \n",
      " 2D)                                                             \n",
      "                                                                 \n",
      " conv2d_7 (Conv2D)           (None, 11, 11, 64)        18496     \n",
      "                                                                 \n",
      " max_pooling2d_7 (MaxPooling  (None, 5, 5, 64)         0         \n",
      " 2D)                                                             \n",
      "                                                                 \n",
      " conv2d_8 (Conv2D)           (None, 3, 3, 128)         73856     \n",
      "                                                                 \n",
      " max_pooling2d_8 (MaxPooling  (None, 1, 1, 128)        0         \n",
      " 2D)                                                             \n",
      "                                                                 \n",
      " flatten_2 (Flatten)         (None, 128)               0         \n",
      "                                                                 \n",
      " dense_4 (Dense)             (None, 256)               33024     \n",
      "                                                                 \n",
      " dropout_2 (Dropout)         (None, 256)               0         \n",
      "                                                                 \n",
      " dense_5 (Dense)             (None, 26)                6682      \n",
      "                                                                 \n",
      "=================================================================\n",
      "Total params: 132,378\n",
      "Trainable params: 132,378\n",
      "Non-trainable params: 0\n",
      "_________________________________________________________________\n"
     ]
    }
   ],
   "source": [
    "model.summary()"
   ]
  },
  {
   "cell_type": "code",
   "execution_count": 47,
   "id": "0103be49",
   "metadata": {},
   "outputs": [
    {
     "name": "stdout",
     "output_type": "stream",
     "text": [
      "Epoch 1/50\n",
      "215/215 [==============================] - 34s 131ms/step - loss: 2.4158 - accuracy: 0.2473 - val_loss: 1.3332 - val_accuracy: 0.5754\n",
      "Epoch 2/50\n",
      "215/215 [==============================] - 33s 141ms/step - loss: 0.9186 - accuracy: 0.6834 - val_loss: 0.7623 - val_accuracy: 0.7083\n",
      "Epoch 3/50\n",
      "116/215 [===============>..............] - ETA: 13s - loss: 0.5530 - accuracy: 0.8109"
     ]
    }
   ],
   "source": [
    "history=model.fit(traindata_generator,epochs=50,validation_data=validationdata_generator)"
   ]
  },
  {
   "cell_type": "code",
   "execution_count": null,
   "id": "8aaabfbb",
   "metadata": {},
   "outputs": [
    {
     "name": "stdout",
     "output_type": "stream",
     "text": [
      "215/215 [==============================] - 9s 43ms/step - loss: 0.0340 - accuracy: 0.9972\n",
      "CNN_SA Training Accuracy : 99.72%\n",
      "57/57 [==============================] - 2s 39ms/step - loss: 0.3233 - accuracy: 0.8935\n",
      "CNN_SA Test Accuracy : 89.35%\n"
     ]
    }
   ],
   "source": [
    "#saving the CNN training Accuracy to local folder \n",
    "_, acc_train = model.evaluate(traindata_generator)\n",
    "print('CNN_SA Training Accuracy : %0.2f%%' % (acc_train * 100))\n",
    "\n",
    "trainingAcc = (\"%0.2f%%\" % (acc_train * 100))\n",
    "np.save('CNN/50epoch_SA_trainingAccuracy.npy', trainingAcc)\n",
    "\n",
    "#saving the CNN test Accuracy to local folder \n",
    "_, acc_test = model.evaluate(validationdata_generator)\n",
    "print('CNN_SA Test Accuracy : %0.2f%%' % (acc_test * 100))\n",
    "\n",
    "TestAcc = (\"%0.2f%%\" % (acc_test * 100))\n",
    "np.save('CNN/50epoch_SA_testAccuracy.npy', TestAcc)"
   ]
  },
  {
   "cell_type": "code",
   "execution_count": null,
   "id": "40ca4eec",
   "metadata": {},
   "outputs": [
    {
     "name": "stdout",
     "output_type": "stream",
     "text": [
      "Model Saved\n"
     ]
    }
   ],
   "source": [
    "#save our model\n",
    "model.save(\"CNN/50epoch_model.h5\")\n",
    "print(\"Model Saved\")"
   ]
  },
  {
   "cell_type": "code",
   "execution_count": null,
   "id": "c6d9b349",
   "metadata": {},
   "outputs": [],
   "source": [
    "#saving the CNN training history to local folder \n",
    "np.save('CNN/50epoch_CNN_history.npy', history.history)\n",
    "\n",
    "#load the CNN training validation accuracy to local folder \n",
    "val_accuracy = np.load('CNN/50epoch_SA_testAccuracy.npy', allow_pickle='TRUE').item()\n",
    "#print('%0.2f%%' % (val_accuracy * 100))\n",
    "\n",
    "#load the CNN training history from local folder\n",
    "history = np.load('CNN/50epoch_CNN_history.npy', allow_pickle='TRUE').item()"
   ]
  },
  {
   "cell_type": "code",
   "execution_count": null,
   "id": "5982bd5d",
   "metadata": {},
   "outputs": [
    {
     "data": {
      "image/png": "[encoded data removed]",
      "text/plain": [
       "<Figure size 864x576 with 2 Axes>"
      ]
     },
     "metadata": {
      "needs_background": "light"
     },
     "output_type": "display_data"
    }
   ],
   "source": [
    "#Plotting the accuracy training using graph presentation CNN\n",
    "plt.figure(figsize = (12, 8))\n",
    "\n",
    "plt.subplot(2, 2, 1)\n",
    "plt.ylabel('Loss Value')\n",
    "plt.xlabel('Epochs')\n",
    "plt.plot(history['loss'], label='Loss')\n",
    "plt.plot(history['val_loss'], label='validation_loss')\n",
    "plt.legend()\n",
    "plt.grid()\n",
    "plt.title('Loss Graph')\n",
    "\n",
    "plt.subplot(2, 2, 2)\n",
    "plt.ylabel('Accuracy')\n",
    "plt.xlabel('Epochs')\n",
    "plt.plot(history['accuracy'], label='accuracy')\n",
    "plt.plot(history['val_accuracy'], label='validation_accuracy')\n",
    "plt.legend()\n",
    "plt.grid()\n",
    "plt.title('Accuracy Graph')\n",
    "\n",
    "plt.show()"
   ]
  },
  {
   "cell_type": "code",
   "execution_count": null,
   "id": "734fe6e5",
   "metadata": {},
   "outputs": [],
   "source": [
    "#load the CNN training validation accuracy to local folder \n",
    "#val_accuracy = np.load('SA_History_models/1val_accuracy.npy', allow_pickle='TRUE').item()\n",
    "#print('%0.2f%%' % (val_accuracy * 100))\n",
    "\n",
    "#load the CNN training history from local folder\n",
    "#history = np.load('SA_History_models/1history.npy', allow_pickle='TRUE').item()"
   ]
  },
  {
   "cell_type": "code",
   "execution_count": null,
   "id": "e6732bb1",
   "metadata": {},
   "outputs": [
    {
     "name": "stdout",
     "output_type": "stream",
     "text": [
      "Training Accuracy: 99.35%\n",
      "Training Loss: 1.96%\n",
      "\n",
      "Validation Accuracy: 99.44%\n",
      "validation_loss Loss: 1.74%\n"
     ]
    }
   ],
   "source": [
    "#getting training accuracy and loss data\n",
    "training_accuracy = float(history['accuracy'][-1])\n",
    "print('Training Accuracy: %0.2f%%' % (training_accuracy * 100))\n",
    "training_loss = float(history['loss'][-1])\n",
    "print('Training Loss: %0.2f%%' % (training_loss * 100))\n",
    "\n",
    "validation_accuracy = float(history['val_accuracy'][-1])\n",
    "print('\\nValidation Accuracy: %0.2f%%' % (validation_accuracy * 100))\n",
    "validation_loss = float(history['val_loss'][-1])\n",
    "print('validation_loss Loss: %0.2f%%' % (validation_loss * 100))"
   ]
  }
 ],
 "metadata": {
  "kernelspec": {
   "display_name": "Python 3.10.7 64-bit (microsoft store)",
   "language": "python",
   "name": "python3"
  },
  "language_info": {
   "codemirror_mode": {
    "name": "ipython",
    "version": 3
   },
   "file_extension": ".py",
   "mimetype": "text/x-python",
   "name": "python",
   "nbconvert_exporter": "python",
   "pygments_lexer": "ipython3",
   "version": "3.10.0"
  },
  "vscode": {
   "interpreter": {
    "hash": "ca731fba0b2a8205888d30c381688135b6d0118ea16c4a9b9148c792d6c26d38"
   }
  }
 },
 "nbformat": 4,
 "nbformat_minor": 5
}
